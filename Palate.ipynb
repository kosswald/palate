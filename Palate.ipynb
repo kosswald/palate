{
 "cells": [
  {
   "cell_type": "code",
   "execution_count": 184,
   "metadata": {
    "nbpresent": {
     "id": "6222909a-6a74-4ce4-831e-1f6e6a49bded"
    },
    "scrolled": true,
    "slideshow": {
     "slide_type": "slide"
    }
   },
   "outputs": [
    {
     "name": "stdout",
     "output_type": "stream",
     "text": [
      "CPU times: user 48 ms, sys: 0 ns, total: 48 ms\n",
      "Wall time: 391 ms\n"
     ]
    }
   ],
   "source": [
    "%%time\n",
    "import boto3\n",
    "import re\n",
    "from sagemaker import get_execution_role\n",
    "\n",
    "role = get_execution_role()\n",
    "\n",
    "bucket = 'palate' # customize to sage.delete_endpoint(EndpointName=endpoint_name)your bucket\n",
    "containers = {'us-west-2': '433757028032.dkr.ecr.us-west-2.amazonaws.com/image-classification:latest'}\n",
    "training_image = containers[boto3.Session().region_name]"
   ]
  },
  {
   "cell_type": "markdown",
   "metadata": {
    "collapsed": true,
    "nbpresent": {
     "id": "30449848-d420-42b9-b454-05347ceb68ba"
    }
   },
   "source": [
    "## Training the ResNet model\n",
    "\n",
    "In this demo, we are using [Caltech-256](http://www.vision.caltech.edu/Image_Datasets/Caltech256/) dataset, which contains 30608 images of 256 objects. For the training and validation data, we follow the splitting scheme in this MXNet [example](https://github.com/apache/incubator-mxnet/blob/master/example/image-classification/data/caltech256.sh). In particular, it randomly selects 60 images per class for training, and uses the remaining data for validation. The algorithm takes `RecordIO` file as input. The user can also provide the image files as input, which will be converted into `RecordIO` format using MXNet's [im2rec](https://mxnet.incubator.apache.org/how_to/recordio.html?highlight=im2rec) tool. It takes around 50 seconds to converted the entire Caltech-256 dataset (~1.2GB) on a p2.xlarge instance. However, for this demo, we will use record io format. \n",
    "\n",
    "Once we have the data available in the correct format for training, the next step is to actually train the model using the data. After setting training parameters, we kick off training, and poll for status until training is completed.\n",
    "\n",
    "## Training parameters\n",
    "There are two kinds of parameters that need to be set for training. The first one are the parameters for the training job. These include:\n",
    "\n",
    "* **Input specification**: These are the training and validation channels that specify the path where training data is present. These are specified in the \"InputDataConfig\" section. The main parameters that need to be set is the \"ContentType\" which can be set to \"rec\" or \"lst\" based on the input data format and the S3Uri which specifies the bucket and the folder where the data is present. \n",
    "* **Output specification**: This is specified in the \"OutputDataConfig\" section. We just need to specify the path where the output can be stored after training\n",
    "* **Resource config**: This section specifies the type of instance on which to run the training and the number of hosts used for training. If \"InstanceCount\" is more than 1, then training can be run in a distributed manner. \n",
    "\n",
    "Apart from the above set of parameters, there are hyperparameters that are specific to the algorithm. These are:\n",
    "\n",
    "* **num_layers**: The number of layers (depth) for the network. We use 101 in this samples but other values such as 50, 152 can be used. \n",
    "* **num_training_samples**: This is the total number of training samples. It is set to 15420 for caltech dataset with the current split\n",
    "* **num_classes**: This is the number of output classes for the new dataset. Imagenet was trained with 1000 output classes but the number of output classes can be changed for fine-tuning. For caltech, we use 257 because it has 256 object categories + 1 clutter class\n",
    "* **epochs**: Number of training epochs\n",
    "* **learning_rate**: Learning rate for training\n",
    "* **mini_batch_size**: The number of training samples used for each mini batch. In distributed training, the number of training samples used per batch will be N * mini_batch_size where N is the number of hosts on which training is run"
   ]
  },
  {
   "cell_type": "code",
   "execution_count": 185,
   "metadata": {
    "collapsed": true,
    "nbpresent": {
     "id": "40c63406-e99a-4102-859c-80ecd8e8f3ed"
    },
    "slideshow": {
     "slide_type": "slide"
    }
   },
   "outputs": [],
   "source": [
    "# The algorithm supports multiple network depth (number of layers). They are 18, 34, 50, 101, 152 and 200\n",
    "# For this training, we will use 18 layers\n",
    "num_layers = \"18\" \n",
    "# we need to specify the input image shape for the training data\n",
    "image_shape = \"3,750,750\"\n",
    "# we also need to specify the number of training samples in the training set\n",
    "# for caltech it is 15420\n",
    "num_training_samples = \"2306\"\n",
    "# specify the number of output classes\n",
    "num_classes = \"40\"\n",
    "# batch size for training\n",
    "mini_batch_size =  \"30\"\n",
    "# number of epochs aka number of iterations for training\n",
    "epochs = \"10\"\n",
    "# learning rate\n",
    "learning_rate = \"0.01\"\n",
    "# resize\n",
    "resize = \"750,750\""
   ]
  },
  {
   "cell_type": "code",
   "execution_count": 186,
   "metadata": {
    "nbpresent": {
     "id": "a4e116ce-859d-41a3-af17-9d0562f691c8"
    }
   },
   "outputs": [
    {
     "name": "stdout",
     "output_type": "stream",
     "text": [
      "Training job name: sagemaker-palate-notebook-2018-04-10-01-19-00\n",
      "\n",
      "Input Data Location: {'S3DataType': 'S3Prefix', 'S3Uri': 's3://palate/photos/restaurants/', 'S3DataDistributionType': 'FullyReplicated'}\n",
      "CPU times: user 4 ms, sys: 0 ns, total: 4 ms\n",
      "Wall time: 4.31 ms\n"
     ]
    }
   ],
   "source": [
    "%%time\n",
    "import time\n",
    "import boto3\n",
    "from time import gmtime, strftime\n",
    "\n",
    "\n",
    "s3 = boto3.client('s3')\n",
    "# create unique job name \n",
    "job_name_prefix = 'sagemaker-palate-notebook'\n",
    "timestamp = time.strftime('-%Y-%m-%d-%H-%M-%S', time.gmtime())\n",
    "job_name = job_name_prefix + timestamp\n",
    "training_params = \\\n",
    "{\n",
    "    # specify the training docker image\n",
    "    \"AlgorithmSpecification\": {\n",
    "        \"TrainingImage\": training_image,\n",
    "        \"TrainingInputMode\": \"File\"            \n",
    "    },\n",
    "    \"RoleArn\": role,\n",
    "    \"OutputDataConfig\": {\n",
    "        \"S3OutputPath\": 's3://palate/output'.format(bucket, job_name_prefix)\n",
    "    },\n",
    "    \"ResourceConfig\": {\n",
    "        \"InstanceCount\": 1,              \n",
    "        \"InstanceType\": \"ml.p2.8xlarge\",\n",
    "        \"VolumeSizeInGB\": 5\n",
    "    },\n",
    "    \"TrainingJobName\": job_name,\n",
    "    \"HyperParameters\": {\n",
    "        \"image_shape\": image_shape,\n",
    "        \"num_layers\": str(num_layers),\n",
    "        \"num_training_samples\": str(num_training_samples),\n",
    "        \"num_classes\": str(num_classes),\n",
    "        \"mini_batch_size\": str(mini_batch_size),\n",
    "        \"epochs\": str(epochs),\n",
    "        \"learning_rate\": str(learning_rate)\n",
    "    },\n",
    "    \"StoppingCondition\": {\n",
    "        \"MaxRuntimeInSeconds\": 360000\n",
    "    },\n",
    "#Training data should be inside a subdirectory called \"train\"\n",
    "#Validation data should be inside a subdirectory called \"validation\"\n",
    "#The algorithm currently only supports fullyreplicated model (where data is copied onto each machine)\n",
    "    \"InputDataConfig\": [\n",
    "        {\n",
    "            \"ChannelName\": \"train\",\n",
    "            \"DataSource\": {\n",
    "                \"S3DataSource\": {\n",
    "                    \"S3DataType\": \"S3Prefix\",\n",
    "                    \"S3Uri\": 's3://{}/photos/restaurants/'.format(bucket),\n",
    "                    \"S3DataDistributionType\": \"FullyReplicated\"\n",
    "                }\n",
    "            },\n",
    "            \"ContentType\": \"application/x-image\",\n",
    "            \"CompressionType\": \"None\"\n",
    "        },\n",
    "        {\n",
    "            \"ChannelName\": \"train_lst\",  \n",
    "            \"DataSource\": {\n",
    "                \"S3DataSource\": {\n",
    "                    \"S3DataType\": \"S3Prefix\",\n",
    "                    \"S3Uri\": 's3://{}/photos/train_lst/'.format(bucket),\n",
    "                    \"S3DataDistributionType\": \"FullyReplicated\"\n",
    "                }\n",
    "            },\n",
    "            \"ContentType\": \"application/x-image\",\n",
    "            \"CompressionType\": \"None\"\n",
    "        },\n",
    "        {\n",
    "            \"ChannelName\": \"validation\", \n",
    "            \"DataSource\": {\n",
    "                \"S3DataSource\": {\n",
    "                    \"S3DataType\": \"S3Prefix\",\n",
    "                    \"S3Uri\": 's3://{}/photos/restaurants/'.format(bucket),\n",
    "                    \"S3DataDistributionType\": \"FullyReplicated\"\n",
    "                }\n",
    "            },\n",
    "            \"ContentType\": \"application/x-image\",\n",
    "            \"CompressionType\": \"None\"\n",
    "        },\n",
    "        {\n",
    "            \"ChannelName\": \"validation_lst\",  \n",
    "            \"DataSource\": {\n",
    "                \"S3DataSource\": {\n",
    "                    \"S3DataType\": \"S3Prefix\",\n",
    "                    \"S3Uri\": 's3://{}/photos/validation_lst/'.format(bucket),\n",
    "                    \"S3DataDistributionType\": \"FullyReplicated\"\n",
    "                }\n",
    "            },\n",
    "            \"ContentType\": \"application/x-image\",\n",
    "            \"CompressionType\": \"None\"\n",
    "        }\n",
    "    ]\n",
    "}\n",
    "print('Training job name: {}'.format(job_name))\n",
    "print('\\nInput Data Location: {}'.format(training_params['InputDataConfig'][0]['DataSource']['S3DataSource']))"
   ]
  },
  {
   "cell_type": "code",
   "execution_count": 187,
   "metadata": {
    "nbpresent": {
     "id": "0adce04d-0a0d-4b4e-a35e-ba2f22838c99"
    }
   },
   "outputs": [
    {
     "name": "stdout",
     "output_type": "stream",
     "text": [
      "Training job current status: InProgress\n",
      "Training failed to start\n",
      "Training failed with the following error: ClientError: image_shape must be smaller than the actual input image size. Please reduce the image_shape value or use the resize parameter.\n",
      "\n"
     ]
    }
   ],
   "source": [
    "# create the Amazon SageMaker training job\n",
    "sagemaker = boto3.client(service_name='sagemaker')\n",
    "sagemaker.create_training_job(**training_params)\n",
    "\n",
    "# confirm that the training job has started\n",
    "status = sagemaker.describe_training_job(TrainingJobName=job_name)['TrainingJobStatus']\n",
    "print('Training job current status: {}'.format(status))\n",
    "\n",
    "try:\n",
    "    # wait for the job to finish and report the ending status\n",
    "    sagemaker.get_waiter('training_job_completed_or_stopped').wait(TrainingJobName=job_name)\n",
    "    training_info = sagemaker.describe_training_job(TrainingJobName=job_name)\n",
    "    status = training_info['TrainingJobStatus']\n",
    "    print(\"Training job ended with status: \" + status)\n",
    "except:\n",
    "    print('Training failed to start')\n",
    "     # if exception is raised, that means it has failed\n",
    "    message = sagemaker.describe_training_job(TrainingJobName=job_name)['FailureReason']\n",
    "    print('Training failed with the following error: {}'.format(message))"
   ]
  },
  {
   "cell_type": "code",
   "execution_count": 188,
   "metadata": {
    "nbpresent": {
     "id": "6641578e-5fff-416f-a772-9b4d605a5ff1"
    }
   },
   "outputs": [
    {
     "name": "stdout",
     "output_type": "stream",
     "text": [
      "Training job ended with status: Failed\n"
     ]
    }
   ],
   "source": [
    "training_info = sagemaker.describe_training_job(TrainingJobName=job_name)\n",
    "status = training_info['TrainingJobStatus']\n",
    "print(\"Training job ended with status: \" + status)"
   ]
  },
  {
   "cell_type": "markdown",
   "metadata": {
    "collapsed": true,
    "nbpresent": {
     "id": "1e3e86b3-7230-4fa6-b029-7987f90f4d15"
    }
   },
   "source": [
    "## Create Model\n",
    "\n",
    "We now create a SageMaker Model from the training output. Using the model we can create an Endpoint Configuration."
   ]
  },
  {
   "cell_type": "code",
   "execution_count": 91,
   "metadata": {
    "nbpresent": {
     "id": "7853be09-f8ae-49a2-8454-03b38ef193dd"
    }
   },
   "outputs": [
    {
     "name": "stdout",
     "output_type": "stream",
     "text": [
      "test2-image-classification-model\n",
      "s3://palate/output/sagemaker-palate-notebook-2018-04-09-00-27-23/output/model.tar.gz\n",
      "arn:aws:sagemaker:us-west-2:798315061807:model/test2-image-classification-model\n",
      "CPU times: user 44 ms, sys: 0 ns, total: 44 ms\n",
      "Wall time: 461 ms\n"
     ]
    }
   ],
   "source": [
    "%%time\n",
    "import boto3\n",
    "from time import gmtime, strftime\n",
    "\n",
    "sage = boto3.Session().client(service_name='sagemaker') \n",
    "\n",
    "model_name=\"test2-image-classification-model\"\n",
    "print(model_name)\n",
    "info = sage.describe_training_job(TrainingJobName=job_name)\n",
    "model_data = info['ModelArtifacts']['S3ModelArtifacts']\n",
    "print(model_data)\n",
    "\n",
    "containers = {'us-west-2': '433757028032.dkr.ecr.us-west-2.amazonaws.com/image-classification:latest',\n",
    "              'us-east-1': '811284229777.dkr.ecr.us-east-1.amazonaws.com/image-classification:latest',\n",
    "              'us-east-2': '825641698319.dkr.ecr.us-east-2.amazonaws.com/image-classification:latest',\n",
    "              'eu-west-1': '685385470294.dkr.ecr.eu-west-1.amazonaws.com/image-classification:latest'}\n",
    "hosting_image = containers[boto3.Session().region_name]\n",
    "primary_container = {\n",
    "    'Image': hosting_image,\n",
    "    'ModelDataUrl': model_data,\n",
    "}\n",
    "\n",
    "create_model_response = sage.create_model(\n",
    "    ModelName = model_name,\n",
    "    ExecutionRoleArn = role,\n",
    "    PrimaryContainer = primary_container)\n",
    "\n",
    "print(create_model_response['ModelArn'])\n"
   ]
  },
  {
   "cell_type": "markdown",
   "metadata": {
    "nbpresent": {
     "id": "5c0c2f71-d52d-469d-bdf7-9cd589eef24d"
    }
   },
   "source": [
    "### Create Endpoint Configuration\n",
    "At launch, we will support configuring REST endpoints in hosting with multiple models, e.g. for A/B testing purposes. In order to support this, customers create an endpoint configuration, that describes the distribution of traffic across the models, whether split, shadowed, or sampled in some way.\n",
    "\n",
    "In addition, the endpoint configuration describes the instance type required for model deployment, and at launch will describe the autoscaling configuration."
   ]
  },
  {
   "cell_type": "code",
   "execution_count": 92,
   "metadata": {
    "nbpresent": {
     "id": "51be9a82-2482-4372-88ed-f27b5d6b7d42"
    }
   },
   "outputs": [
    {
     "name": "stdout",
     "output_type": "stream",
     "text": [
      "Endpoint configuration name: sagemaker-palate-notebook-epc--2018-04-09-00-43-19\n",
      "Endpoint configuration arn:  arn:aws:sagemaker:us-west-2:798315061807:endpoint-config/sagemaker-palate-notebook-epc--2018-04-09-00-43-19\n"
     ]
    }
   ],
   "source": [
    "from time import gmtime, strftime\n",
    "\n",
    "timestamp = time.strftime('-%Y-%m-%d-%H-%M-%S', time.gmtime())\n",
    "endpoint_config_name = job_name_prefix + '-epc-' + timestamp\n",
    "endpoint_config_response = sage.create_endpoint_config(\n",
    "    EndpointConfigName = endpoint_config_name,\n",
    "    ProductionVariants=[{\n",
    "        'InstanceType':'ml.m4.xlarge',\n",
    "        'InitialInstanceCount':1,\n",
    "        'ModelName':model_name,\n",
    "        'VariantName':'AllTraffic'}])\n",
    "\n",
    "print('Endpoint configuration name: {}'.format(endpoint_config_name))\n",
    "print('Endpoint configuration arn:  {}'.format(endpoint_config_response['EndpointConfigArn']))"
   ]
  },
  {
   "cell_type": "markdown",
   "metadata": {
    "nbpresent": {
     "id": "075440e0-fab0-4b67-9c56-efa54f08e7ae"
    }
   },
   "source": [
    "### Create Endpoint\n",
    "Lastly, the customer creates the endpoint that serves up the model, through specifying the name and configuration defined above. The end result is an endpoint that can be validated and incorporated into production applications. This takes 9-11 minutes to complete."
   ]
  },
  {
   "cell_type": "code",
   "execution_count": 93,
   "metadata": {
    "nbpresent": {
     "id": "5d47bbb5-7dce-4cba-abc8-227e075d1855"
    }
   },
   "outputs": [
    {
     "name": "stdout",
     "output_type": "stream",
     "text": [
      "Endpoint name: sagemaker-palate-notebook-ep--2018-04-09-00-43-31\n",
      "EndpointArn = arn:aws:sagemaker:us-west-2:798315061807:endpoint/sagemaker-palate-notebook-ep--2018-04-09-00-43-31\n",
      "CPU times: user 4 ms, sys: 0 ns, total: 4 ms\n",
      "Wall time: 270 ms\n"
     ]
    }
   ],
   "source": [
    "%%time\n",
    "import time\n",
    "\n",
    "timestamp = time.strftime('-%Y-%m-%d-%H-%M-%S', time.gmtime())\n",
    "endpoint_name = job_name_prefix + '-ep-' + timestamp\n",
    "print('Endpoint name: {}'.format(endpoint_name))\n",
    "\n",
    "endpoint_params = {\n",
    "    'EndpointName': endpoint_name,\n",
    "    'EndpointConfigName': endpoint_config_name,\n",
    "}\n",
    "endpoint_response = sagemaker.create_endpoint(**endpoint_params)\n",
    "print('EndpointArn = {}'.format(endpoint_response['EndpointArn']))"
   ]
  },
  {
   "cell_type": "markdown",
   "metadata": {
    "nbpresent": {
     "id": "b495d153-6bb5-4e82-83cc-3741aa906aff"
    }
   },
   "source": [
    "Finally, now the endpoint can be created. It may take sometime to create the endpoint..."
   ]
  },
  {
   "cell_type": "code",
   "execution_count": 94,
   "metadata": {
    "nbpresent": {
     "id": "8cc80944-8840-4310-ae73-2ca23d574578"
    }
   },
   "outputs": [
    {
     "name": "stdout",
     "output_type": "stream",
     "text": [
      "EndpointStatus = Creating\n",
      "Endpoint creation ended with EndpointStatus = InService\n"
     ]
    }
   ],
   "source": [
    "# get the status of the endpoint\n",
    "response = sagemaker.describe_endpoint(EndpointName=endpoint_name)\n",
    "status = response['EndpointStatus']\n",
    "print('EndpointStatus = {}'.format(status))\n",
    "\n",
    "\n",
    "# wait until the status has changed\n",
    "sagemaker.get_waiter('endpoint_in_service').wait(EndpointName=endpoint_name)\n",
    "\n",
    "\n",
    "# print the status of the endpoint\n",
    "endpoint_response = sagemaker.describe_endpoint(EndpointName=endpoint_name)\n",
    "status = endpoint_response['EndpointStatus']\n",
    "print('Endpoint creation ended with EndpointStatus = {}'.format(status))\n",
    "\n",
    "if status != 'InService':\n",
    "    raise Exception('Endpoint creation failed.')"
   ]
  },
  {
   "cell_type": "markdown",
   "metadata": {
    "nbpresent": {
     "id": "8afbf4de-8869-4b1a-98e2-b091714d553d"
    }
   },
   "source": [
    "## Perform Inference\n",
    "Finally, the customer can now validate the model for use. They can obtain the endpoint from the client library using the result from previous operations, and generate classifications from the trained model using that endpoint.\n"
   ]
  },
  {
   "cell_type": "code",
   "execution_count": 95,
   "metadata": {
    "collapsed": true,
    "nbpresent": {
     "id": "979b3164-7409-4080-b2de-1096e764dd32"
    }
   },
   "outputs": [],
   "source": [
    "import boto3\n",
    "runtime = boto3.Session().client(service_name='runtime.sagemaker') "
   ]
  },
  {
   "cell_type": "markdown",
   "metadata": {
    "nbpresent": {
     "id": "a17456b6-8f81-4ca6-aaee-0c300604aad9"
    }
   },
   "source": [
    "### Download test image"
   ]
  },
  {
   "cell_type": "code",
   "execution_count": 189,
   "metadata": {
    "nbpresent": {
     "id": "7d0f6eaa-3702-4982-b6ab-ab25c59e1d06"
    }
   },
   "outputs": [
    {
     "name": "stdout",
     "output_type": "stream",
     "text": [
      "Found: photos/users/o5PjjS1IxZ8rvBKSFZeM7Q/-X9AxKzyLO60XrEvdAORLQ.jpg\n",
      "URL: https://s3-us-west-2.amazonaws.com/palate/photos/users/o5PjjS1IxZ8rvBKSFZeM7Q/-X9AxKzyLO60XrEvdAORLQ.jpg\n",
      "--2018-04-10 02:08:10--  https://s3-us-west-2.amazonaws.com/palate/photos/users/o5PjjS1IxZ8rvBKSFZeM7Q/-X9AxKzyLO60XrEvdAORLQ.jpg\n",
      "Resolving s3-us-west-2.amazonaws.com (s3-us-west-2.amazonaws.com)... 54.231.168.204\n",
      "Connecting to s3-us-west-2.amazonaws.com (s3-us-west-2.amazonaws.com)|54.231.168.204|:443... connected.\n",
      "HTTP request sent, awaiting response... 200 OK\n",
      "Length: 76881 (75K) [image/jpeg]\n",
      "Saving to: ‘/tmp/test1.jpg’\n",
      "\n",
      "/tmp/test1.jpg      100%[===================>]  75.08K  --.-KB/s    in 0.002s  \n",
      "\n",
      "2018-04-10 02:08:10 (47.0 MB/s) - ‘/tmp/test1.jpg’ saved [76881/76881]\n",
      "\n",
      "Found: photos/users/o5PjjS1IxZ8rvBKSFZeM7Q/0Sg8AUyVcu94_8T_T9m0zg.jpg\n",
      "URL: https://s3-us-west-2.amazonaws.com/palate/photos/users/o5PjjS1IxZ8rvBKSFZeM7Q/0Sg8AUyVcu94_8T_T9m0zg.jpg\n",
      "--2018-04-10 02:08:10--  https://s3-us-west-2.amazonaws.com/palate/photos/users/o5PjjS1IxZ8rvBKSFZeM7Q/0Sg8AUyVcu94_8T_T9m0zg.jpg\n",
      "Resolving s3-us-west-2.amazonaws.com (s3-us-west-2.amazonaws.com)... 54.231.168.204\n",
      "Connecting to s3-us-west-2.amazonaws.com (s3-us-west-2.amazonaws.com)|54.231.168.204|:443... connected.\n",
      "HTTP request sent, awaiting response... 200 OK\n",
      "Length: 90197 (88K) [image/jpeg]\n",
      "Saving to: ‘/tmp/test2.jpg’\n",
      "\n",
      "/tmp/test2.jpg      100%[===================>]  88.08K  --.-KB/s    in 0.004s  \n",
      "\n",
      "2018-04-10 02:08:10 (19.7 MB/s) - ‘/tmp/test2.jpg’ saved [90197/90197]\n",
      "\n",
      "Found: photos/users/o5PjjS1IxZ8rvBKSFZeM7Q/30diK9-mCpHehEwSnjuSIA.jpg\n",
      "URL: https://s3-us-west-2.amazonaws.com/palate/photos/users/o5PjjS1IxZ8rvBKSFZeM7Q/30diK9-mCpHehEwSnjuSIA.jpg\n",
      "--2018-04-10 02:08:10--  https://s3-us-west-2.amazonaws.com/palate/photos/users/o5PjjS1IxZ8rvBKSFZeM7Q/30diK9-mCpHehEwSnjuSIA.jpg\n",
      "Resolving s3-us-west-2.amazonaws.com (s3-us-west-2.amazonaws.com)... 54.231.168.204\n",
      "Connecting to s3-us-west-2.amazonaws.com (s3-us-west-2.amazonaws.com)|54.231.168.204|:443... connected.\n",
      "HTTP request sent, awaiting response... 200 OK\n",
      "Length: 60873 (59K) [image/jpeg]\n",
      "Saving to: ‘/tmp/test3.jpg’\n",
      "\n",
      "/tmp/test3.jpg      100%[===================>]  59.45K  --.-KB/s    in 0.001s  \n",
      "\n",
      "2018-04-10 02:08:10 (57.1 MB/s) - ‘/tmp/test3.jpg’ saved [60873/60873]\n",
      "\n",
      "Found: photos/users/o5PjjS1IxZ8rvBKSFZeM7Q/4PTnMx44pGNtjCWIt46zZw.jpg\n",
      "URL: https://s3-us-west-2.amazonaws.com/palate/photos/users/o5PjjS1IxZ8rvBKSFZeM7Q/4PTnMx44pGNtjCWIt46zZw.jpg\n",
      "--2018-04-10 02:08:11--  https://s3-us-west-2.amazonaws.com/palate/photos/users/o5PjjS1IxZ8rvBKSFZeM7Q/4PTnMx44pGNtjCWIt46zZw.jpg\n",
      "Resolving s3-us-west-2.amazonaws.com (s3-us-west-2.amazonaws.com)... 54.231.168.204\n",
      "Connecting to s3-us-west-2.amazonaws.com (s3-us-west-2.amazonaws.com)|54.231.168.204|:443... connected.\n",
      "HTTP request sent, awaiting response... 200 OK\n",
      "Length: 85006 (83K) [image/jpeg]\n",
      "Saving to: ‘/tmp/test4.jpg’\n",
      "\n",
      "/tmp/test4.jpg      100%[===================>]  83.01K  --.-KB/s    in 0.004s  \n",
      "\n",
      "2018-04-10 02:08:11 (19.1 MB/s) - ‘/tmp/test4.jpg’ saved [85006/85006]\n",
      "\n",
      "Found: photos/users/o5PjjS1IxZ8rvBKSFZeM7Q/60WiLKnv9JaHsIqyN7M8bA.jpg\n",
      "URL: https://s3-us-west-2.amazonaws.com/palate/photos/users/o5PjjS1IxZ8rvBKSFZeM7Q/60WiLKnv9JaHsIqyN7M8bA.jpg\n",
      "--2018-04-10 02:08:11--  https://s3-us-west-2.amazonaws.com/palate/photos/users/o5PjjS1IxZ8rvBKSFZeM7Q/60WiLKnv9JaHsIqyN7M8bA.jpg\n",
      "Resolving s3-us-west-2.amazonaws.com (s3-us-west-2.amazonaws.com)... 54.231.168.204\n",
      "Connecting to s3-us-west-2.amazonaws.com (s3-us-west-2.amazonaws.com)|54.231.168.204|:443... connected.\n",
      "HTTP request sent, awaiting response... 200 OK\n",
      "Length: 125134 (122K) [image/jpeg]\n",
      "Saving to: ‘/tmp/test5.jpg’\n",
      "\n",
      "/tmp/test5.jpg      100%[===================>] 122.20K  --.-KB/s    in 0.007s  \n",
      "\n",
      "2018-04-10 02:08:11 (18.1 MB/s) - ‘/tmp/test5.jpg’ saved [125134/125134]\n",
      "\n",
      "Found: photos/users/o5PjjS1IxZ8rvBKSFZeM7Q/64dUHgXa0mQr0-i9NkFAyg.jpg\n",
      "URL: https://s3-us-west-2.amazonaws.com/palate/photos/users/o5PjjS1IxZ8rvBKSFZeM7Q/64dUHgXa0mQr0-i9NkFAyg.jpg\n",
      "--2018-04-10 02:08:11--  https://s3-us-west-2.amazonaws.com/palate/photos/users/o5PjjS1IxZ8rvBKSFZeM7Q/64dUHgXa0mQr0-i9NkFAyg.jpg\n",
      "Resolving s3-us-west-2.amazonaws.com (s3-us-west-2.amazonaws.com)... 54.231.168.204\n",
      "Connecting to s3-us-west-2.amazonaws.com (s3-us-west-2.amazonaws.com)|54.231.168.204|:443... connected.\n",
      "HTTP request sent, awaiting response... 200 OK\n",
      "Length: 104243 (102K) [image/jpeg]\n",
      "Saving to: ‘/tmp/test6.jpg’\n",
      "\n",
      "/tmp/test6.jpg      100%[===================>] 101.80K  --.-KB/s    in 0.005s  \n",
      "\n",
      "2018-04-10 02:08:11 (19.1 MB/s) - ‘/tmp/test6.jpg’ saved [104243/104243]\n",
      "\n",
      "Found: photos/users/o5PjjS1IxZ8rvBKSFZeM7Q/8N_Kwcom9CnwtcWDNIhjKg.jpg\n",
      "URL: https://s3-us-west-2.amazonaws.com/palate/photos/users/o5PjjS1IxZ8rvBKSFZeM7Q/8N_Kwcom9CnwtcWDNIhjKg.jpg\n",
      "--2018-04-10 02:08:11--  https://s3-us-west-2.amazonaws.com/palate/photos/users/o5PjjS1IxZ8rvBKSFZeM7Q/8N_Kwcom9CnwtcWDNIhjKg.jpg\n",
      "Resolving s3-us-west-2.amazonaws.com (s3-us-west-2.amazonaws.com)... 54.231.168.204\n",
      "Connecting to s3-us-west-2.amazonaws.com (s3-us-west-2.amazonaws.com)|54.231.168.204|:443... connected.\n",
      "HTTP request sent, awaiting response... 200 OK\n",
      "Length: 107537 (105K) [image/jpeg]\n",
      "Saving to: ‘/tmp/test7.jpg’\n",
      "\n",
      "/tmp/test7.jpg      100%[===================>] 105.02K  --.-KB/s    in 0.003s  \n",
      "\n",
      "2018-04-10 02:08:11 (35.8 MB/s) - ‘/tmp/test7.jpg’ saved [107537/107537]\n",
      "\n",
      "Found: photos/users/o5PjjS1IxZ8rvBKSFZeM7Q/9ya6sfDitGI4pRPp89bOww.jpg\n",
      "URL: https://s3-us-west-2.amazonaws.com/palate/photos/users/o5PjjS1IxZ8rvBKSFZeM7Q/9ya6sfDitGI4pRPp89bOww.jpg\n",
      "--2018-04-10 02:08:11--  https://s3-us-west-2.amazonaws.com/palate/photos/users/o5PjjS1IxZ8rvBKSFZeM7Q/9ya6sfDitGI4pRPp89bOww.jpg\n",
      "Resolving s3-us-west-2.amazonaws.com (s3-us-west-2.amazonaws.com)... 54.231.168.204\n",
      "Connecting to s3-us-west-2.amazonaws.com (s3-us-west-2.amazonaws.com)|54.231.168.204|:443... connected.\n",
      "HTTP request sent, awaiting response... 200 OK\n",
      "Length: 79716 (78K) [image/jpeg]\n",
      "Saving to: ‘/tmp/test8.jpg’\n",
      "\n",
      "/tmp/test8.jpg      100%[===================>]  77.85K  --.-KB/s    in 0.001s  \n",
      "\n",
      "2018-04-10 02:08:11 (56.1 MB/s) - ‘/tmp/test8.jpg’ saved [79716/79716]\n",
      "\n",
      "Found: photos/users/o5PjjS1IxZ8rvBKSFZeM7Q/CAqWY3Wqya0RlePkKGoDAg.jpg\n",
      "URL: https://s3-us-west-2.amazonaws.com/palate/photos/users/o5PjjS1IxZ8rvBKSFZeM7Q/CAqWY3Wqya0RlePkKGoDAg.jpg\n",
      "--2018-04-10 02:08:12--  https://s3-us-west-2.amazonaws.com/palate/photos/users/o5PjjS1IxZ8rvBKSFZeM7Q/CAqWY3Wqya0RlePkKGoDAg.jpg\n",
      "Resolving s3-us-west-2.amazonaws.com (s3-us-west-2.amazonaws.com)... 54.231.168.204\n",
      "Connecting to s3-us-west-2.amazonaws.com (s3-us-west-2.amazonaws.com)|54.231.168.204|:443... connected.\n",
      "HTTP request sent, awaiting response... 200 OK\n",
      "Length: 76766 (75K) [image/jpeg]\n",
      "Saving to: ‘/tmp/test9.jpg’\n",
      "\n",
      "/tmp/test9.jpg      100%[===================>]  74.97K  --.-KB/s    in 0.005s  \n",
      "\n",
      "2018-04-10 02:08:12 (15.7 MB/s) - ‘/tmp/test9.jpg’ saved [76766/76766]\n",
      "\n",
      "Found: photos/users/o5PjjS1IxZ8rvBKSFZeM7Q/I34JwNOXmsZr7OBTeBCYgw.jpg\n",
      "URL: https://s3-us-west-2.amazonaws.com/palate/photos/users/o5PjjS1IxZ8rvBKSFZeM7Q/I34JwNOXmsZr7OBTeBCYgw.jpg\n",
      "--2018-04-10 02:08:12--  https://s3-us-west-2.amazonaws.com/palate/photos/users/o5PjjS1IxZ8rvBKSFZeM7Q/I34JwNOXmsZr7OBTeBCYgw.jpg\n",
      "Resolving s3-us-west-2.amazonaws.com (s3-us-west-2.amazonaws.com)... 54.231.168.204\n",
      "Connecting to s3-us-west-2.amazonaws.com (s3-us-west-2.amazonaws.com)|54.231.168.204|:443... connected.\n",
      "HTTP request sent, awaiting response... 200 OK\n",
      "Length: 112543 (110K) [image/jpeg]\n",
      "Saving to: ‘/tmp/test10.jpg’\n",
      "\n",
      "/tmp/test10.jpg     100%[===================>] 109.91K  --.-KB/s    in 0.003s  \n",
      "\n",
      "2018-04-10 02:08:12 (39.0 MB/s) - ‘/tmp/test10.jpg’ saved [112543/112543]\n",
      "\n",
      "Found: photos/users/o5PjjS1IxZ8rvBKSFZeM7Q/RV5OAUdKatZxIdY2kzMTkQ.jpg\n",
      "URL: https://s3-us-west-2.amazonaws.com/palate/photos/users/o5PjjS1IxZ8rvBKSFZeM7Q/RV5OAUdKatZxIdY2kzMTkQ.jpg\n",
      "--2018-04-10 02:08:12--  https://s3-us-west-2.amazonaws.com/palate/photos/users/o5PjjS1IxZ8rvBKSFZeM7Q/RV5OAUdKatZxIdY2kzMTkQ.jpg\n",
      "Resolving s3-us-west-2.amazonaws.com (s3-us-west-2.amazonaws.com)... 54.231.168.204\n",
      "Connecting to s3-us-west-2.amazonaws.com (s3-us-west-2.amazonaws.com)|54.231.168.204|:443... connected.\n",
      "HTTP request sent, awaiting response... 200 OK\n",
      "Length: 139287 (136K) [image/jpeg]\n",
      "Saving to: ‘/tmp/test11.jpg’\n",
      "\n",
      "/tmp/test11.jpg     100%[===================>] 136.02K  --.-KB/s    in 0.006s  \n",
      "\n",
      "2018-04-10 02:08:12 (20.5 MB/s) - ‘/tmp/test11.jpg’ saved [139287/139287]\n",
      "\n",
      "Found: photos/users/o5PjjS1IxZ8rvBKSFZeM7Q/RpngKqERsFNq6rn-ubmQoQ.jpg\n",
      "URL: https://s3-us-west-2.amazonaws.com/palate/photos/users/o5PjjS1IxZ8rvBKSFZeM7Q/RpngKqERsFNq6rn-ubmQoQ.jpg\n",
      "--2018-04-10 02:08:12--  https://s3-us-west-2.amazonaws.com/palate/photos/users/o5PjjS1IxZ8rvBKSFZeM7Q/RpngKqERsFNq6rn-ubmQoQ.jpg\n",
      "Resolving s3-us-west-2.amazonaws.com (s3-us-west-2.amazonaws.com)... 54.231.168.204\n",
      "Connecting to s3-us-west-2.amazonaws.com (s3-us-west-2.amazonaws.com)|54.231.168.204|:443... connected.\n",
      "HTTP request sent, awaiting response... 200 OK\n",
      "Length: 85257 (83K) [image/jpeg]\n",
      "Saving to: ‘/tmp/test12.jpg’\n",
      "\n",
      "/tmp/test12.jpg     100%[===================>]  83.26K  --.-KB/s    in 0.004s  \n",
      "\n",
      "2018-04-10 02:08:12 (18.6 MB/s) - ‘/tmp/test12.jpg’ saved [85257/85257]\n",
      "\n",
      "Found: photos/users/o5PjjS1IxZ8rvBKSFZeM7Q/SFCuiRBukjoKt9UUDA4e2Q.jpg\n",
      "URL: https://s3-us-west-2.amazonaws.com/palate/photos/users/o5PjjS1IxZ8rvBKSFZeM7Q/SFCuiRBukjoKt9UUDA4e2Q.jpg\n",
      "--2018-04-10 02:08:12--  https://s3-us-west-2.amazonaws.com/palate/photos/users/o5PjjS1IxZ8rvBKSFZeM7Q/SFCuiRBukjoKt9UUDA4e2Q.jpg\n",
      "Resolving s3-us-west-2.amazonaws.com (s3-us-west-2.amazonaws.com)... 54.231.168.204\n",
      "Connecting to s3-us-west-2.amazonaws.com (s3-us-west-2.amazonaws.com)|54.231.168.204|:443... connected.\n",
      "HTTP request sent, awaiting response... 200 OK\n",
      "Length: 74365 (73K) [image/jpeg]\n",
      "Saving to: ‘/tmp/test13.jpg’\n",
      "\n",
      "/tmp/test13.jpg     100%[===================>]  72.62K  --.-KB/s    in 0.001s  \n",
      "\n",
      "2018-04-10 02:08:12 (65.0 MB/s) - ‘/tmp/test13.jpg’ saved [74365/74365]\n",
      "\n",
      "Found: photos/users/o5PjjS1IxZ8rvBKSFZeM7Q/SPUeojKYLFK6ypoLf6Kbmw.jpg\n",
      "URL: https://s3-us-west-2.amazonaws.com/palate/photos/users/o5PjjS1IxZ8rvBKSFZeM7Q/SPUeojKYLFK6ypoLf6Kbmw.jpg\n",
      "--2018-04-10 02:08:13--  https://s3-us-west-2.amazonaws.com/palate/photos/users/o5PjjS1IxZ8rvBKSFZeM7Q/SPUeojKYLFK6ypoLf6Kbmw.jpg\n",
      "Resolving s3-us-west-2.amazonaws.com (s3-us-west-2.amazonaws.com)... 52.218.208.136\n",
      "Connecting to s3-us-west-2.amazonaws.com (s3-us-west-2.amazonaws.com)|52.218.208.136|:443... connected.\n",
      "HTTP request sent, awaiting response... 200 OK\n",
      "Length: 72745 (71K) [image/jpeg]\n",
      "Saving to: ‘/tmp/test14.jpg’\n",
      "\n",
      "/tmp/test14.jpg     100%[===================>]  71.04K  --.-KB/s    in 0.001s  \n",
      "\n",
      "2018-04-10 02:08:13 (46.6 MB/s) - ‘/tmp/test14.jpg’ saved [72745/72745]\n",
      "\n",
      "Found: photos/users/o5PjjS1IxZ8rvBKSFZeM7Q/TW6vMkWoLg56uxzBg1K-xQ.jpg\n",
      "URL: https://s3-us-west-2.amazonaws.com/palate/photos/users/o5PjjS1IxZ8rvBKSFZeM7Q/TW6vMkWoLg56uxzBg1K-xQ.jpg\n",
      "--2018-04-10 02:08:13--  https://s3-us-west-2.amazonaws.com/palate/photos/users/o5PjjS1IxZ8rvBKSFZeM7Q/TW6vMkWoLg56uxzBg1K-xQ.jpg\n",
      "Resolving s3-us-west-2.amazonaws.com (s3-us-west-2.amazonaws.com)... 52.218.193.0\n",
      "Connecting to s3-us-west-2.amazonaws.com (s3-us-west-2.amazonaws.com)|52.218.193.0|:443... connected.\n",
      "HTTP request sent, awaiting response... 200 OK\n",
      "Length: 124957 (122K) [image/jpeg]\n",
      "Saving to: ‘/tmp/test15.jpg’\n",
      "\n",
      "/tmp/test15.jpg     100%[===================>] 122.03K  --.-KB/s    in 0.006s  \n",
      "\n",
      "2018-04-10 02:08:13 (18.8 MB/s) - ‘/tmp/test15.jpg’ saved [124957/124957]\n",
      "\n",
      "Found: photos/users/o5PjjS1IxZ8rvBKSFZeM7Q/U44V5h-Qed6qc6WHPedvNw.jpg\n",
      "URL: https://s3-us-west-2.amazonaws.com/palate/photos/users/o5PjjS1IxZ8rvBKSFZeM7Q/U44V5h-Qed6qc6WHPedvNw.jpg\n",
      "--2018-04-10 02:08:13--  https://s3-us-west-2.amazonaws.com/palate/photos/users/o5PjjS1IxZ8rvBKSFZeM7Q/U44V5h-Qed6qc6WHPedvNw.jpg\n",
      "Resolving s3-us-west-2.amazonaws.com (s3-us-west-2.amazonaws.com)... 52.218.193.0\n",
      "Connecting to s3-us-west-2.amazonaws.com (s3-us-west-2.amazonaws.com)|52.218.193.0|:443... connected.\n",
      "HTTP request sent, awaiting response... 200 OK\n",
      "Length: 96620 (94K) [image/jpeg]\n",
      "Saving to: ‘/tmp/test16.jpg’\n",
      "\n",
      "/tmp/test16.jpg     100%[===================>]  94.36K  --.-KB/s    in 0.002s  \n",
      "\n",
      "2018-04-10 02:08:13 (47.4 MB/s) - ‘/tmp/test16.jpg’ saved [96620/96620]\n",
      "\n",
      "Found: photos/users/o5PjjS1IxZ8rvBKSFZeM7Q/UvuC3DqcEK5bbx69HPTQTQ.jpg\n",
      "URL: https://s3-us-west-2.amazonaws.com/palate/photos/users/o5PjjS1IxZ8rvBKSFZeM7Q/UvuC3DqcEK5bbx69HPTQTQ.jpg\n",
      "--2018-04-10 02:08:13--  https://s3-us-west-2.amazonaws.com/palate/photos/users/o5PjjS1IxZ8rvBKSFZeM7Q/UvuC3DqcEK5bbx69HPTQTQ.jpg\n",
      "Resolving s3-us-west-2.amazonaws.com (s3-us-west-2.amazonaws.com)... 52.218.193.0\n",
      "Connecting to s3-us-west-2.amazonaws.com (s3-us-west-2.amazonaws.com)|52.218.193.0|:443... connected.\n",
      "HTTP request sent, awaiting response... 200 OK\n",
      "Length: 101088 (99K) [image/jpeg]\n",
      "Saving to: ‘/tmp/test17.jpg’\n",
      "\n",
      "/tmp/test17.jpg     100%[===================>]  98.72K  --.-KB/s    in 0.007s  \n",
      "\n",
      "2018-04-10 02:08:13 (14.4 MB/s) - ‘/tmp/test17.jpg’ saved [101088/101088]\n",
      "\n",
      "Found: photos/users/o5PjjS1IxZ8rvBKSFZeM7Q/WAek2HmaMA6eHrPOtY-S4w.jpg\n",
      "URL: https://s3-us-west-2.amazonaws.com/palate/photos/users/o5PjjS1IxZ8rvBKSFZeM7Q/WAek2HmaMA6eHrPOtY-S4w.jpg\n",
      "--2018-04-10 02:08:13--  https://s3-us-west-2.amazonaws.com/palate/photos/users/o5PjjS1IxZ8rvBKSFZeM7Q/WAek2HmaMA6eHrPOtY-S4w.jpg\n",
      "Resolving s3-us-west-2.amazonaws.com (s3-us-west-2.amazonaws.com)... 52.218.193.0\n",
      "Connecting to s3-us-west-2.amazonaws.com (s3-us-west-2.amazonaws.com)|52.218.193.0|:443... connected.\n",
      "HTTP request sent, awaiting response... 200 OK\n",
      "Length: 56984 (56K) [image/jpeg]\n",
      "Saving to: ‘/tmp/test18.jpg’\n",
      "\n",
      "/tmp/test18.jpg     100%[===================>]  55.65K  --.-KB/s    in 0.004s  \n",
      "\n",
      "2018-04-10 02:08:13 (14.9 MB/s) - ‘/tmp/test18.jpg’ saved [56984/56984]\n",
      "\n",
      "Found: photos/users/o5PjjS1IxZ8rvBKSFZeM7Q/WRmhiLXvUH5zxqMR0h0JOg.jpg\n",
      "URL: https://s3-us-west-2.amazonaws.com/palate/photos/users/o5PjjS1IxZ8rvBKSFZeM7Q/WRmhiLXvUH5zxqMR0h0JOg.jpg\n",
      "--2018-04-10 02:08:13--  https://s3-us-west-2.amazonaws.com/palate/photos/users/o5PjjS1IxZ8rvBKSFZeM7Q/WRmhiLXvUH5zxqMR0h0JOg.jpg\n",
      "Resolving s3-us-west-2.amazonaws.com (s3-us-west-2.amazonaws.com)... 52.218.193.0\n",
      "Connecting to s3-us-west-2.amazonaws.com (s3-us-west-2.amazonaws.com)|52.218.193.0|:443... connected.\n",
      "HTTP request sent, awaiting response... 200 OK\n",
      "Length: 113675 (111K) [image/jpeg]\n",
      "Saving to: ‘/tmp/test19.jpg’\n",
      "\n",
      "/tmp/test19.jpg     100%[===================>] 111.01K  --.-KB/s    in 0.005s  \n",
      "\n",
      "2018-04-10 02:08:13 (21.4 MB/s) - ‘/tmp/test19.jpg’ saved [113675/113675]\n",
      "\n",
      "Found: photos/users/o5PjjS1IxZ8rvBKSFZeM7Q/WuOMxqj_QH08krIJ2Bpt-A.jpg\n",
      "URL: https://s3-us-west-2.amazonaws.com/palate/photos/users/o5PjjS1IxZ8rvBKSFZeM7Q/WuOMxqj_QH08krIJ2Bpt-A.jpg\n",
      "--2018-04-10 02:08:14--  https://s3-us-west-2.amazonaws.com/palate/photos/users/o5PjjS1IxZ8rvBKSFZeM7Q/WuOMxqj_QH08krIJ2Bpt-A.jpg\n",
      "Resolving s3-us-west-2.amazonaws.com (s3-us-west-2.amazonaws.com)... 52.218.193.0\n",
      "Connecting to s3-us-west-2.amazonaws.com (s3-us-west-2.amazonaws.com)|52.218.193.0|:443... connected.\n",
      "HTTP request sent, awaiting response... 200 OK\n",
      "Length: 60489 (59K) [image/jpeg]\n",
      "Saving to: ‘/tmp/test20.jpg’\n",
      "\n",
      "/tmp/test20.jpg     100%[===================>]  59.07K  --.-KB/s    in 0.004s  \n",
      "\n",
      "2018-04-10 02:08:14 (15.2 MB/s) - ‘/tmp/test20.jpg’ saved [60489/60489]\n",
      "\n",
      "Found: photos/users/o5PjjS1IxZ8rvBKSFZeM7Q/XEuuQy-oCHRynlHthTXq4w.jpg\n",
      "URL: https://s3-us-west-2.amazonaws.com/palate/photos/users/o5PjjS1IxZ8rvBKSFZeM7Q/XEuuQy-oCHRynlHthTXq4w.jpg\n",
      "--2018-04-10 02:08:14--  https://s3-us-west-2.amazonaws.com/palate/photos/users/o5PjjS1IxZ8rvBKSFZeM7Q/XEuuQy-oCHRynlHthTXq4w.jpg\n",
      "Resolving s3-us-west-2.amazonaws.com (s3-us-west-2.amazonaws.com)... 52.218.193.0\n",
      "Connecting to s3-us-west-2.amazonaws.com (s3-us-west-2.amazonaws.com)|52.218.193.0|:443... connected.\n",
      "HTTP request sent, awaiting response... 200 OK\n",
      "Length: 113606 (111K) [image/jpeg]\n",
      "Saving to: ‘/tmp/test21.jpg’\n",
      "\n",
      "/tmp/test21.jpg     100%[===================>] 110.94K  --.-KB/s    in 0.003s  \n",
      "\n",
      "2018-04-10 02:08:14 (34.4 MB/s) - ‘/tmp/test21.jpg’ saved [113606/113606]\n",
      "\n",
      "Found: photos/users/o5PjjS1IxZ8rvBKSFZeM7Q/XTndpPxhtx9htJ0dH_NQOg.jpg\n",
      "URL: https://s3-us-west-2.amazonaws.com/palate/photos/users/o5PjjS1IxZ8rvBKSFZeM7Q/XTndpPxhtx9htJ0dH_NQOg.jpg\n",
      "--2018-04-10 02:08:14--  https://s3-us-west-2.amazonaws.com/palate/photos/users/o5PjjS1IxZ8rvBKSFZeM7Q/XTndpPxhtx9htJ0dH_NQOg.jpg\n",
      "Resolving s3-us-west-2.amazonaws.com (s3-us-west-2.amazonaws.com)... 52.218.193.0\n",
      "Connecting to s3-us-west-2.amazonaws.com (s3-us-west-2.amazonaws.com)|52.218.193.0|:443... connected.\n",
      "HTTP request sent, awaiting response... 200 OK\n",
      "Length: 79425 (78K) [image/jpeg]\n",
      "Saving to: ‘/tmp/test22.jpg’\n",
      "\n",
      "/tmp/test22.jpg     100%[===================>]  77.56K  --.-KB/s    in 0.002s  \n",
      "\n",
      "2018-04-10 02:08:14 (46.5 MB/s) - ‘/tmp/test22.jpg’ saved [79425/79425]\n",
      "\n",
      "Found: photos/users/o5PjjS1IxZ8rvBKSFZeM7Q/b1L-C4Zii2r3mUtKDxug2Q.jpg\n",
      "URL: https://s3-us-west-2.amazonaws.com/palate/photos/users/o5PjjS1IxZ8rvBKSFZeM7Q/b1L-C4Zii2r3mUtKDxug2Q.jpg\n",
      "--2018-04-10 02:08:14--  https://s3-us-west-2.amazonaws.com/palate/photos/users/o5PjjS1IxZ8rvBKSFZeM7Q/b1L-C4Zii2r3mUtKDxug2Q.jpg\n",
      "Resolving s3-us-west-2.amazonaws.com (s3-us-west-2.amazonaws.com)... 52.218.193.0\n",
      "Connecting to s3-us-west-2.amazonaws.com (s3-us-west-2.amazonaws.com)|52.218.193.0|:443... connected.\n",
      "HTTP request sent, awaiting response... 200 OK\n",
      "Length: 113261 (111K) [image/jpeg]\n",
      "Saving to: ‘/tmp/test23.jpg’\n",
      "\n",
      "/tmp/test23.jpg     100%[===================>] 110.61K  --.-KB/s    in 0.002s  \n",
      "\n",
      "2018-04-10 02:08:14 (64.2 MB/s) - ‘/tmp/test23.jpg’ saved [113261/113261]\n",
      "\n",
      "Found: photos/users/o5PjjS1IxZ8rvBKSFZeM7Q/kM4EM-SCbHUSgPVuzfZ64Q.jpg\n",
      "URL: https://s3-us-west-2.amazonaws.com/palate/photos/users/o5PjjS1IxZ8rvBKSFZeM7Q/kM4EM-SCbHUSgPVuzfZ64Q.jpg\n",
      "--2018-04-10 02:08:14--  https://s3-us-west-2.amazonaws.com/palate/photos/users/o5PjjS1IxZ8rvBKSFZeM7Q/kM4EM-SCbHUSgPVuzfZ64Q.jpg\n",
      "Resolving s3-us-west-2.amazonaws.com (s3-us-west-2.amazonaws.com)... 52.218.193.0\n",
      "Connecting to s3-us-west-2.amazonaws.com (s3-us-west-2.amazonaws.com)|52.218.193.0|:443... connected.\n",
      "HTTP request sent, awaiting response... 200 OK\n",
      "Length: 133938 (131K) [image/jpeg]\n",
      "Saving to: ‘/tmp/test24.jpg’\n",
      "\n",
      "/tmp/test24.jpg     100%[===================>] 130.80K  --.-KB/s    in 0.01s   \n",
      "\n",
      "2018-04-10 02:08:14 (10.7 MB/s) - ‘/tmp/test24.jpg’ saved [133938/133938]\n",
      "\n",
      "Found: photos/users/o5PjjS1IxZ8rvBKSFZeM7Q/qDK5Lbl1ySHEsLhBuMr0tA.jpg\n",
      "URL: https://s3-us-west-2.amazonaws.com/palate/photos/users/o5PjjS1IxZ8rvBKSFZeM7Q/qDK5Lbl1ySHEsLhBuMr0tA.jpg\n",
      "--2018-04-10 02:08:14--  https://s3-us-west-2.amazonaws.com/palate/photos/users/o5PjjS1IxZ8rvBKSFZeM7Q/qDK5Lbl1ySHEsLhBuMr0tA.jpg\n",
      "Resolving s3-us-west-2.amazonaws.com (s3-us-west-2.amazonaws.com)... 52.218.193.0\n",
      "Connecting to s3-us-west-2.amazonaws.com (s3-us-west-2.amazonaws.com)|52.218.193.0|:443... connected.\n",
      "HTTP request sent, awaiting response... 200 OK\n",
      "Length: 91043 (89K) [image/jpeg]\n",
      "Saving to: ‘/tmp/test25.jpg’\n",
      "\n",
      "/tmp/test25.jpg     100%[===================>]  88.91K  --.-KB/s    in 0.002s  \n",
      "\n",
      "2018-04-10 02:08:15 (47.7 MB/s) - ‘/tmp/test25.jpg’ saved [91043/91043]\n",
      "\n",
      "Found: photos/users/o5PjjS1IxZ8rvBKSFZeM7Q/rzbnc_QmKYAD3clnkXW_-A.jpg\n",
      "URL: https://s3-us-west-2.amazonaws.com/palate/photos/users/o5PjjS1IxZ8rvBKSFZeM7Q/rzbnc_QmKYAD3clnkXW_-A.jpg\n",
      "--2018-04-10 02:08:15--  https://s3-us-west-2.amazonaws.com/palate/photos/users/o5PjjS1IxZ8rvBKSFZeM7Q/rzbnc_QmKYAD3clnkXW_-A.jpg\n",
      "Resolving s3-us-west-2.amazonaws.com (s3-us-west-2.amazonaws.com)... 52.218.193.0\n",
      "Connecting to s3-us-west-2.amazonaws.com (s3-us-west-2.amazonaws.com)|52.218.193.0|:443... connected.\n",
      "HTTP request sent, awaiting response... 200 OK\n",
      "Length: 108109 (106K) [image/jpeg]\n",
      "Saving to: ‘/tmp/test26.jpg’\n",
      "\n",
      "/tmp/test26.jpg     100%[===================>] 105.58K  --.-KB/s    in 0.006s  \n",
      "\n",
      "2018-04-10 02:08:15 (16.7 MB/s) - ‘/tmp/test26.jpg’ saved [108109/108109]\n",
      "\n",
      "Found: photos/users/o5PjjS1IxZ8rvBKSFZeM7Q/tir0bWpynYjGppti5kDvKg.jpg\n",
      "URL: https://s3-us-west-2.amazonaws.com/palate/photos/users/o5PjjS1IxZ8rvBKSFZeM7Q/tir0bWpynYjGppti5kDvKg.jpg\n",
      "--2018-04-10 02:08:15--  https://s3-us-west-2.amazonaws.com/palate/photos/users/o5PjjS1IxZ8rvBKSFZeM7Q/tir0bWpynYjGppti5kDvKg.jpg\n",
      "Resolving s3-us-west-2.amazonaws.com (s3-us-west-2.amazonaws.com)... 52.218.193.0\n",
      "Connecting to s3-us-west-2.amazonaws.com (s3-us-west-2.amazonaws.com)|52.218.193.0|:443... connected.\n",
      "HTTP request sent, awaiting response... 200 OK\n",
      "Length: 142061 (139K) [image/jpeg]\n",
      "Saving to: ‘/tmp/test27.jpg’\n",
      "\n",
      "/tmp/test27.jpg     100%[===================>] 138.73K  --.-KB/s    in 0.007s  \n",
      "\n",
      "2018-04-10 02:08:15 (18.6 MB/s) - ‘/tmp/test27.jpg’ saved [142061/142061]\n",
      "\n",
      "Found: photos/users/o5PjjS1IxZ8rvBKSFZeM7Q/vcemzhs5N9B5DZj4ADzCOQ.jpg\n",
      "URL: https://s3-us-west-2.amazonaws.com/palate/photos/users/o5PjjS1IxZ8rvBKSFZeM7Q/vcemzhs5N9B5DZj4ADzCOQ.jpg\n",
      "--2018-04-10 02:08:15--  https://s3-us-west-2.amazonaws.com/palate/photos/users/o5PjjS1IxZ8rvBKSFZeM7Q/vcemzhs5N9B5DZj4ADzCOQ.jpg\n",
      "Resolving s3-us-west-2.amazonaws.com (s3-us-west-2.amazonaws.com)... 52.218.193.0\n",
      "Connecting to s3-us-west-2.amazonaws.com (s3-us-west-2.amazonaws.com)|52.218.193.0|:443... connected.\n",
      "HTTP request sent, awaiting response... 200 OK\n",
      "Length: 117663 (115K) [image/jpeg]\n",
      "Saving to: ‘/tmp/test28.jpg’\n",
      "\n",
      "/tmp/test28.jpg     100%[===================>] 114.91K  --.-KB/s    in 0.002s  \n",
      "\n",
      "2018-04-10 02:08:15 (64.4 MB/s) - ‘/tmp/test28.jpg’ saved [117663/117663]\n",
      "\n",
      "Found: photos/users/o5PjjS1IxZ8rvBKSFZeM7Q/xx3QTnM3zBRnGDUiWxkk7g.jpg\n",
      "URL: https://s3-us-west-2.amazonaws.com/palate/photos/users/o5PjjS1IxZ8rvBKSFZeM7Q/xx3QTnM3zBRnGDUiWxkk7g.jpg\n",
      "--2018-04-10 02:08:15--  https://s3-us-west-2.amazonaws.com/palate/photos/users/o5PjjS1IxZ8rvBKSFZeM7Q/xx3QTnM3zBRnGDUiWxkk7g.jpg\n",
      "Resolving s3-us-west-2.amazonaws.com (s3-us-west-2.amazonaws.com)... 52.218.193.0\n",
      "Connecting to s3-us-west-2.amazonaws.com (s3-us-west-2.amazonaws.com)|52.218.193.0|:443... connected.\n",
      "HTTP request sent, awaiting response... 200 OK\n",
      "Length: 84266 (82K) [image/jpeg]\n",
      "Saving to: ‘/tmp/test29.jpg’\n",
      "\n",
      "/tmp/test29.jpg     100%[===================>]  82.29K  --.-KB/s    in 0.005s  \n",
      "\n",
      "2018-04-10 02:08:15 (17.0 MB/s) - ‘/tmp/test29.jpg’ saved [84266/84266]\n",
      "\n",
      "Found: photos/users/o5PjjS1IxZ8rvBKSFZeM7Q/zZ2zryag94yauFQEuHUNBQ.jpg\n",
      "URL: https://s3-us-west-2.amazonaws.com/palate/photos/users/o5PjjS1IxZ8rvBKSFZeM7Q/zZ2zryag94yauFQEuHUNBQ.jpg\n",
      "--2018-04-10 02:08:15--  https://s3-us-west-2.amazonaws.com/palate/photos/users/o5PjjS1IxZ8rvBKSFZeM7Q/zZ2zryag94yauFQEuHUNBQ.jpg\n",
      "Resolving s3-us-west-2.amazonaws.com (s3-us-west-2.amazonaws.com)... 52.218.193.0\n",
      "Connecting to s3-us-west-2.amazonaws.com (s3-us-west-2.amazonaws.com)|52.218.193.0|:443... connected.\n",
      "HTTP request sent, awaiting response... 200 OK\n",
      "Length: 102760 (100K) [image/jpeg]\n",
      "Saving to: ‘/tmp/test30.jpg’\n",
      "\n",
      "/tmp/test30.jpg     100%[===================>] 100.35K  --.-KB/s    in 0.002s  \n",
      "\n",
      "2018-04-10 02:08:15 (55.3 MB/s) - ‘/tmp/test30.jpg’ saved [102760/102760]\n",
      "\n"
     ]
    }
   ],
   "source": [
    "import boto3\n",
    "import os\n",
    "\n",
    "s3 = boto3.resource('s3')\n",
    "bucket= s3.Bucket('palate')\n",
    "\n",
    "# user = '6ge446UtI_M0yzQa-I66Vg'\n",
    "# user = 'IYk2DG_yBByVXxrVTo-BOg'\n",
    "# user = 'izdoRybAthDrhWBqc_16lQ'\n",
    "# user = 'zkHO17cJXt9Wvde4fcaL8A'\n",
    "user = 'o5PjjS1IxZ8rvBKSFZeM7Q'\n",
    "# user = '2CgLe_T0JLIhEGbg60ThEA'\n",
    "photoCount = 0\n",
    "\n",
    "for bucket in s3.buckets.all():\n",
    "    counter=0\n",
    "    counterClass = 0\n",
    "    classifier = ''\n",
    "    userPath = 'photos/users/' + str(user) + '/'\n",
    "    for key in bucket.objects.all():\n",
    "        path = str(key.key)\n",
    "        #print(str(key.key))\n",
    "        #print(userPath)\n",
    "        #print(str(key.key.encode('utf-8')))\n",
    "        if path.find(userPath) != -1:\n",
    "            photoCount += 1\n",
    "            \n",
    "            print('Found: ' + str(path))\n",
    "            awsUrl = 'https://s3-us-west-2.amazonaws.com/palate/'\n",
    "            url = awsUrl + path\n",
    "            print('URL: ' + url)\n",
    "            # https://s3-us-west-2.amazonaws.com/palate/photos/users/b73qtAJ8kWdB7HIsTN0P5w/-zm-T2QyislPgM9ICspxRg.jpg\n",
    "            saveAs = '/tmp/test' + str(photoCount) + '.jpg'\n",
    "            !wget -O {saveAs} {url}\n",
    "                \n",
    "                \n",
    "                \n",
    "\n",
    "#!wget -O /tmp/test1.jpg https://s3-us-west-2.amazonaws.com/palate/photos/restaurants/the-morrison-los-angeles/1MmjIXWEduQUxs3_83bZDQ.jpg\n",
    "#!wget -O /tmp/test2.jpg https://s3-us-west-2.amazonaws.com/palate/photos/restaurants/the-morrison-los-angeles/0J37zqRKZzpKzmyixAQSCQ.jpg\n",
    "#!wget -O /tmp/test3.jpg https://s3-us-west-2.amazonaws.com/palate/photos/restaurants/the-morrison-los-angeles/41jf-3Vh4uY2nwmKd25jcA.jpg\n",
    "#!wget -O /tmp/test4.jpg https://s3-us-west-2.amazonaws.com/palate/photos/restaurants/providence-los-angeles-2/6FX0CkFxUHwOSb031QwpqA.jpg\n",
    "#!wget -O /tmp/test5.jpg https://s3-us-west-2.amazonaws.com/palate/photos/restaurants/providence-los-angeles-2/899_MnJupls8moZWrG9QxA.jpg\n",
    "#!wget -O /tmp/test6.jpg https://s3-us-west-2.amazonaws.com/palate/photos/restaurants/providence-los-angeles-2/6SZNL6WALimZqi-e9EBDnQ.jpg\n",
    "#!wget -O /tmp/test7.jpg https://s3-us-west-2.amazonaws.com/palate/photos/restaurants/providence-los-angeles-2/86mYtyJrcHdBJUo1Uzr8ZA.jpg\n",
    "#!wget -O /tmp/test8.jpg https://s3-us-west-2.amazonaws.com/palate/photos/restaurants/pine-and-crane-los-angeles/2dRXRo71aRoF3G7JQ5HJUw.jpg\n",
    "#!wget -O /tmp/test9.jpg https://s3-us-west-2.amazonaws.com/palate/photos/restaurants/perch-los-angeles/6affCEwXYqbigcoCtsYJqQ.jpg\n",
    "#!wget -O /tmp/test10.jpg https://s3-us-west-2.amazonaws.com/palate/photos/restaurants/perch-los-angeles/BMGexDWsE7OGsLJBZk3Axg.jpg\n",
    "\n",
    "\n",
    "\n",
    "#file_name = '/tmp/test'\n",
    "# test image\n",
    "#from IPython.display import Image\n",
    "#for num in range(1,2,1):\n",
    "#    Image(file_name + str(num) + '.jpg')"
   ]
  },
  {
   "cell_type": "code",
   "execution_count": 190,
   "metadata": {
    "nbpresent": {
     "id": "9f474199-dab8-4ca7-810b-44d289dc5ddc"
    }
   },
   "outputs": [
    {
     "name": "stdout",
     "output_type": "stream",
     "text": [
      "--2018-04-10 02:08:28--  https://s3-us-west-2.amazonaws.com/palate/photos/classes.lst\n",
      "Resolving s3-us-west-2.amazonaws.com (s3-us-west-2.amazonaws.com)... 52.218.209.184\n",
      "Connecting to s3-us-west-2.amazonaws.com (s3-us-west-2.amazonaws.com)|52.218.209.184|:443... connected.\n",
      "HTTP request sent, awaiting response... 200 OK\n",
      "Length: 1667 (1.6K) [text/plain]\n",
      "Saving to: ‘/tmp/object.lst’\n",
      "\n",
      "/tmp/object.lst     100%[===================>]   1.63K  --.-KB/s    in 0s      \n",
      "\n",
      "2018-04-10 02:08:28 (143 MB/s) - ‘/tmp/object.lst’ saved [1667/1667]\n",
      "\n",
      "['shake-shack-los-angeles-7', 'manuela-los-angeles-2', 'the-kitchen-los-angeles', 'langers-los-angeles-2', 'the-bun-shop-los-angeles', 'little-jewel-of-new-orleans-los-angeles-2', 'wurstküche-los-angeles-2', 'boogie-mcgees-bayou-smokehouse-bbq-los-angeles', 'yuko-kitchen-los-angeles', 'marugame-monzo-los-angeles-2', 'bestia-los-angeles', 'yup-dduk-la-los-angeles', 'breva-restaurant-los-angeles-2', 'eggslut-los-angeles-7', 'animal-los-angeles', 'han-bat-shul-lung-tang-los-angeles', 'prank-los-angeles', 'république-los-angeles-2', 'pasta-sisters-los-angeles', 'a-food-affair-los-angeles', 'preux-and-proper-los-angeles', 'masa-of-echo-park-los-angeles', 'marmalade-cafe-la-los-angeles-2', 'faith-and-flower-los-angeles', 'montrésor-los-angeles-2', 'the-parker-room-los-angeles', 'hae-jang-chon-korean-bbq-restaurant-los-angeles', 'perch-los-angeles', 'bottega-louie-los-angeles', 'doomies-nextmex-los-angeles-2', 'bäco-mercat-los-angeles-2', 'beer-belly-los-angeles-2', 'broken-mouth-lees-homestyle-los-angeles-5', 'my-two-cents-los-angeles-3', 'pine-and-crane-los-angeles', 'uni-luv-los-angeles', 'stout-burgers-and-beers-los-angeles', 'howlin-rays-los-angeles-3', 'blu-jam-café-los-angeles-2', 'chego-los-angeles-5', 'guss-world-famous-fried-chicken-los-angeles', 'the-henry-los-angeles', 'philippe-the-original-los-angeles', 'the-black-sheep-los-angeles', 'kkini-los-angeles', 'daikokuya-little-tokyo-los-angeles', 'jewel-los-angeles-2', 'mimimyunga-los-angeles', 'providence-los-angeles-2', 'majordōmo-los-angeles', 'slurpin-ramen-bar-los-angeles', 'kang-ho-dong-baekjeong-los-angeles-4', 'little-sister-los-angeles-3', 'otium-los-angeles', 'komodo-los-angeles-6', 'daves-hot-chicken-los-angeles', 'south-city-fried-chicken-los-angeles', 'gogobop-korean-rice-bar-los-angeles', 'running-goose-los-angeles', 'the-morrison-los-angeles']\n"
     ]
    }
   ],
   "source": [
    "# fetch object categories from S3\n",
    "object_categories = []\n",
    "!wget -O /tmp/object.lst https://s3-us-west-2.amazonaws.com/palate/photos/classes.lst\n",
    "obj_file_name = '/tmp/object.lst'\n",
    "\n",
    "with open(obj_file_name, 'r') as f:\n",
    "    for line in f:\n",
    "        object_categories.append(line.rstrip('\\n'))\n",
    "    \n",
    "print(object_categories)"
   ]
  },
  {
   "cell_type": "markdown",
   "metadata": {
    "nbpresent": {
     "id": "a807361c-9f65-4149-8922-4600c011a545"
    }
   },
   "source": [
    "### Evaluation\n",
    "\n",
    "Evaluate the image through the network for inteference. The network outputs class probabilities and typically, one selects the class with the maximum probability as the final class output.\n",
    "\n",
    "**Note:** The output class detected by the network may not be accurate in this example. To limit the time taken and cost of training, we have trained the model only for a couple of epochs. If the network is trained for more epochs (say 20), then the output class will be more accurate."
   ]
  },
  {
   "cell_type": "code",
   "execution_count": 191,
   "metadata": {
    "nbpresent": {
     "id": "4581dc4a-725b-4f3d-a912-1c4b58ab245b"
    }
   },
   "outputs": [
    {
     "name": "stdout",
     "output_type": "stream",
     "text": [
      "Result: label - broken-mouth-lees-homestyle-los-angeles-5, probability - 0.047106869518756866\n",
      "Result: label - broken-mouth-lees-homestyle-los-angeles-5, probability - 0.07139304280281067\n",
      "Result: label - broken-mouth-lees-homestyle-los-angeles-5, probability - 0.12511301040649414\n",
      "Result: label - broken-mouth-lees-homestyle-los-angeles-5, probability - 0.12599118053913116\n",
      "Result: label - broken-mouth-lees-homestyle-los-angeles-5, probability - 0.09249883890151978\n",
      "Result: label - broken-mouth-lees-homestyle-los-angeles-5, probability - 0.047143127769231796\n",
      "Result: label - broken-mouth-lees-homestyle-los-angeles-5, probability - 0.06112596020102501\n",
      "Result: label - broken-mouth-lees-homestyle-los-angeles-5, probability - 0.046864911913871765\n",
      "Result: label - broken-mouth-lees-homestyle-los-angeles-5, probability - 0.04744726046919823\n",
      "Result: label - broken-mouth-lees-homestyle-los-angeles-5, probability - 0.13744908571243286\n",
      "Result: label - broken-mouth-lees-homestyle-los-angeles-5, probability - 0.1435146927833557\n",
      "Result: label - broken-mouth-lees-homestyle-los-angeles-5, probability - 0.1499747484922409\n",
      "Result: label - broken-mouth-lees-homestyle-los-angeles-5, probability - 0.12969526648521423\n",
      "Result: label - broken-mouth-lees-homestyle-los-angeles-5, probability - 0.08942176401615143\n",
      "Result: label - broken-mouth-lees-homestyle-los-angeles-5, probability - 0.05622141808271408\n",
      "Result: label - broken-mouth-lees-homestyle-los-angeles-5, probability - 0.09547801315784454\n",
      "Result: label - broken-mouth-lees-homestyle-los-angeles-5, probability - 0.06598281115293503\n",
      "Result: label - broken-mouth-lees-homestyle-los-angeles-5, probability - 0.10470148921012878\n",
      "Result: label - broken-mouth-lees-homestyle-los-angeles-5, probability - 0.0553654208779335\n",
      "Result: label - broken-mouth-lees-homestyle-los-angeles-5, probability - 0.04711104556918144\n",
      "Result: label - broken-mouth-lees-homestyle-los-angeles-5, probability - 0.05561203882098198\n",
      "Result: label - broken-mouth-lees-homestyle-los-angeles-5, probability - 0.047227177768945694\n",
      "Result: label - broken-mouth-lees-homestyle-los-angeles-5, probability - 0.08437630534172058\n",
      "Result: label - broken-mouth-lees-homestyle-los-angeles-5, probability - 0.9997184872627258\n",
      "Result: label - broken-mouth-lees-homestyle-los-angeles-5, probability - 0.05871089547872543\n",
      "Result: label - broken-mouth-lees-homestyle-los-angeles-5, probability - 0.2566378116607666\n",
      "Result: label - broken-mouth-lees-homestyle-los-angeles-5, probability - 0.06338723748922348\n",
      "Result: label - broken-mouth-lees-homestyle-los-angeles-5, probability - 0.06879554688930511\n",
      "Result: label - broken-mouth-lees-homestyle-los-angeles-5, probability - 0.29861682653427124\n",
      "Label: shake-shack-los-angeles-7, probability - 0.009173122607171536\n",
      "Label: manuela-los-angeles-2, probability - 0.01407973300665617\n",
      "Label: the-kitchen-los-angeles, probability - 0.015220556020115813\n",
      "Label: langers-los-angeles-2, probability - 0.016002942373355238\n",
      "Label: the-bun-shop-los-angeles, probability - 0.013649704415972035\n",
      "Label: little-jewel-of-new-orleans-los-angeles-2, probability - 0.014333802756542962\n",
      "Label: wurstküche-los-angeles-2, probability - 0.013843641305963198\n",
      "Label: boogie-mcgees-bayou-smokehouse-bbq-los-angeles, probability - 0.015464008102814357\n",
      "Label: yuko-kitchen-los-angeles, probability - 0.013417923854043086\n",
      "Label: marugame-monzo-los-angeles-2, probability - 0.013608595232168834\n",
      "Label: bestia-los-angeles, probability - 0.013469759467989206\n",
      "Label: yup-dduk-la-los-angeles, probability - 0.013747647901376088\n",
      "Label: breva-restaurant-los-angeles-2, probability - 0.013561400212347507\n",
      "Label: eggslut-los-angeles-7, probability - 0.013467536152650913\n",
      "Label: animal-los-angeles, probability - 0.015816229193781815\n",
      "Label: han-bat-shul-lung-tang-los-angeles, probability - 0.015213308498884241\n",
      "Label: prank-los-angeles, probability - 0.016052324961250027\n",
      "Label: république-los-angeles-2, probability - 0.015717769569406907\n",
      "Label: pasta-sisters-los-angeles, probability - 0.014120258033896486\n",
      "Label: a-food-affair-los-angeles, probability - 0.01617762551953395\n",
      "Label: preux-and-proper-los-angeles, probability - 0.01912685747568806\n",
      "Label: masa-of-echo-park-los-angeles, probability - 0.024949918252726404\n",
      "Label: marmalade-cafe-la-los-angeles-2, probability - 0.020446780898297826\n",
      "Label: faith-and-flower-los-angeles, probability - 0.02023306810297072\n",
      "Label: montrésor-los-angeles-2, probability - 0.025613191056375703\n",
      "Label: the-parker-room-los-angeles, probability - 0.028118138791372378\n",
      "Label: hae-jang-chon-korean-bbq-restaurant-los-angeles, probability - 0.03568502080937229\n",
      "Label: perch-los-angeles, probability - 0.03962280365329489\n",
      "Label: bottega-louie-los-angeles, probability - 0.03986090570694724\n",
      "Label: doomies-nextmex-los-angeles-2, probability - 0.035569684333073594\n",
      "Label: bäco-mercat-los-angeles-2, probability - 0.043621055214483326\n",
      "Label: beer-belly-los-angeles-2, probability - 0.038295402143728875\n",
      "Label: broken-mouth-lees-homestyle-los-angeles-5, probability - 0.12242274284362793\n",
      "Label: my-two-cents-los-angeles-3, probability - 0.048163016838952896\n",
      "Label: pine-and-crane-los-angeles, probability - 0.02947195625553598\n",
      "Label: uni-luv-los-angeles, probability - 0.029871700704275805\n",
      "Label: stout-burgers-and-beers-los-angeles, probability - 0.02990252061138375\n",
      "Label: howlin-rays-los-angeles-3, probability - 0.0177950966792802\n",
      "Label: blu-jam-café-los-angeles-2, probability - 0.018745107452074694\n",
      "Label: chego-los-angeles-5, probability - 0.013013811021422347\n",
      "Top Result: broken-mouth-lees-homestyle-los-angeles-5, probability - 0.12242274284362793\n"
     ]
    }
   ],
   "source": [
    "import json\n",
    "import numpy as np\n",
    "\n",
    "class_sum = []\n",
    "for num in range(40):\n",
    "    class_sum.append(0.0)\n",
    "\n",
    "for num in range(1,photoCount,1):\n",
    "    with open('/tmp/test' + str(num) + '.jpg', 'rb') as f:\n",
    "        payload = f.read()\n",
    "        payload = bytearray(payload)\n",
    "        endpoint_name = 'sagemaker-palate-notebook-ep--2018-04-09-00-43-31'\n",
    "        response = runtime.invoke_endpoint(EndpointName=endpoint_name, \n",
    "                                           ContentType='application/x-image', \n",
    "                                           Body=payload)\n",
    "        result = response['Body'].read()\n",
    "        # result will be in json format and convert it to ndarray\n",
    "        result = json.loads(result)\n",
    "        # the result will output the probabilities for all classes\n",
    "        # find the class with maximum probability and print the class index\n",
    "        index = np.argmax(result)\n",
    "\n",
    "        print(\"Result: label - \" + str(object_categories[index]) + \", probability - \" + str(result[index]))\n",
    "\n",
    "    index = 0\n",
    "    for label in result:\n",
    "        #print(\"Label: \" + object_categories[index] + \", probability - \" + str(label))\n",
    "        class_sum[index] += label\n",
    "        index += 1\n",
    "\n",
    "max_idx = 0\n",
    "max_val = 0\n",
    "for index in range(40):\n",
    "    if max_val < class_sum[index]:\n",
    "        max_val = class_sum[index]\n",
    "        max_idx = index\n",
    "    print(\"Label: \" + object_categories[index] + \", probability - \" + str(class_sum[index] / photoCount))\n",
    "    \n",
    "print(\"Top Result: \" + object_categories[max_idx] + \", probability - \" + str(class_sum[max_idx] / photoCount) )"
   ]
  },
  {
   "cell_type": "markdown",
   "metadata": {
    "nbpresent": {
     "id": "1a9fa869-175c-44a1-9399-3ad8d62e8cb4"
    }
   },
   "source": [
    "### Clean up\n",
    "\n",
    "When we're done with the endpoint, we can just delete it and the backing instances will be released.  Run the following cell to delete the endpoint."
   ]
  },
  {
   "cell_type": "code",
   "execution_count": 28,
   "metadata": {
    "nbpresent": {
     "id": "e3db8733-d7c1-47cf-af10-6b0f6fed6f6b"
    }
   },
   "outputs": [
    {
     "data": {
      "text/plain": [
       "{'ResponseMetadata': {'HTTPHeaders': {'connection': 'keep-alive',\n",
       "   'content-length': '0',\n",
       "   'content-type': 'application/x-amz-json-1.1',\n",
       "   'date': 'Tue, 03 Apr 2018 04:29:26 GMT',\n",
       "   'x-amzn-requestid': '3b40e456-6e7f-46d4-9c23-bba48cb52e2e'},\n",
       "  'HTTPStatusCode': 200,\n",
       "  'RequestId': '3b40e456-6e7f-46d4-9c23-bba48cb52e2e',\n",
       "  'RetryAttempts': 0}}"
      ]
     },
     "execution_count": 28,
     "metadata": {},
     "output_type": "execute_result"
    }
   ],
   "source": [
    "#sage.delete_endpoint(EndpointName=endpoint_name)"
   ]
  },
  {
   "cell_type": "code",
   "execution_count": null,
   "metadata": {
    "collapsed": true,
    "nbpresent": {
     "id": "4502663b-d17e-4c63-9836-2cbbd3992857"
    }
   },
   "outputs": [],
   "source": []
  }
 ],
 "metadata": {
  "celltoolbar": "Slideshow",
  "kernelspec": {
   "display_name": "conda_mxnet_p36",
   "language": "python",
   "name": "conda_mxnet_p36"
  },
  "language_info": {
   "codemirror_mode": {
    "name": "ipython",
    "version": 3
   },
   "file_extension": ".py",
   "mimetype": "text/x-python",
   "name": "python",
   "nbconvert_exporter": "python",
   "pygments_lexer": "ipython3",
   "version": "3.6.5"
  }
 },
 "nbformat": 4,
 "nbformat_minor": 2
}
